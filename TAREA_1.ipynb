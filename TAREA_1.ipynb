{
  "cells": [
    {
      "cell_type": "markdown",
      "metadata": {
        "id": "view-in-github",
        "colab_type": "text"
      },
      "source": [
        "<a href=\"https://colab.research.google.com/github/venussar/Primera-unidad/blob/main/TAREA_1.ipynb\" target=\"_parent\"><img src=\"https://colab.research.google.com/assets/colab-badge.svg\" alt=\"Open In Colab\"/></a>"
      ]
    },
    {
      "cell_type": "markdown",
      "id": "981a6e78",
      "metadata": {
        "id": "981a6e78"
      },
      "source": [
        "<a href=\"https://colab.research.google.com/github/danielruizm16/ComputationalMethods/blob/main/Basics/Homework_1.ipynb\" target=\"_parent\"><img src=\"https://colab.research.google.com/assets/colab-badge.svg\" alt=\"Open In Colab\"/></a>"
      ]
    },
    {
      "cell_type": "markdown",
      "id": "5f3e7a80",
      "metadata": {
        "id": "5f3e7a80"
      },
      "source": [
        "# Homework 01: Basic Python, Libraries and Basic Modeling.\n",
        "\n",
        "---\n",
        "### Teacher: Daniel Ruiz Mejía\n",
        "### Name: CAROLINA ANDREA RODAS CASTAÑEDA\n",
        "*Computational Methods 2025-II*\n",
        "\n",
        "---"
      ]
    },
    {
      "cell_type": "markdown",
      "id": "415bc21c",
      "metadata": {
        "id": "415bc21c"
      },
      "source": [
        "# 1.\n",
        "Design a program that, given an input number `a`, returns a boolean variable True or False if it satisfies:\n",
        "\n",
        "- [Deficient numbers](https://en.wikipedia.org/wiki/Deficient_number): the sum of proper divisors is less than the number.\n",
        "\n",
        "The routine should be called numeros_defectivos\n",
        "\n",
        "- [Abundant numbers](https://en.wikipedia.org/wiki/Abundant_number): the sum of proper divisors is greater than the number.\n",
        "\n",
        "The routine should be called numeros_abundantes\n",
        "\n",
        "- [Semiperfect numbers](https://en.wikipedia.org/wiki/Semiperfect_number): the sum of all or some of the proper divisors equals the number.\n",
        "\n",
        "The routine should be called numeros_semiperfectos\n",
        "\n",
        "- [Perfect numbers](https://en.wikipedia.org/wiki/Perfect_number): the sum of all its proper divisors (excluding the number itself) equals the number.\n",
        "\n",
        "The routine should be called numeros_perfectos\n",
        "\n",
        "- [Prime numbers](https://en.wikipedia.org/wiki/Prime_number): the number is divisible only by itself and 1.\n",
        "\n",
        "The routine should be called numeros_primos\n",
        "\n",
        "**Optional problem**\n",
        "\n",
        "Return the first 30 numbers of each class."
      ]
    },
    {
      "cell_type": "code",
      "execution_count": null,
      "id": "c317e348",
      "metadata": {
        "id": "c317e348"
      },
      "outputs": [],
      "source": [
        "# Esta funcion saca los divisores propios de un numero sin incluir el mismo numero\n",
        "def obtener_divisores(n):\n",
        "    lista = []\n",
        "    for x in range(1, n):\n",
        "        if n % x == 0:\n",
        "            lista.append(x)\n",
        "    return lista\n",
        "\n",
        "# Revisa si un numero es defectivo (divisores suman menos que el numero)\n",
        "def numeros_defectivos(n):\n",
        "    suma = sum(obtener_divisores(n))\n",
        "    if suma < n:\n",
        "        return True\n",
        "    return False\n",
        "\n",
        "# Revisa si un numero es abundante (divisores suman mas que el número)\n",
        "def numeros_abundantes(n):\n",
        "    suma = sum(obtener_divisores(n))\n",
        "    return suma > n\n",
        "\n",
        "# Revisa si un numero es perfecto (divisores suman igual al numero)\n",
        "def numeros_perfectos(n):\n",
        "    return sum(obtener_divisores(n)) == n\n",
        "\n",
        "# Revisa si un numero es semiperfecto\n",
        "def numeros_semiperfectos(n):\n",
        "    divisores = obtener_divisores(n)\n",
        "    from itertools import combinations\n",
        "    for r in range(1, len(divisores)+1):\n",
        "        for grupo in combinations(divisores, r):\n",
        "            if sum(grupo) == n:\n",
        "                return True\n",
        "    return False\n",
        "\n",
        "# Verifica si el numero es primo\n",
        "def numeros_primos(n):\n",
        "    if n < 2:\n",
        "        return False\n",
        "    for x in range(2, n):\n",
        "        if n % x == 0:\n",
        "            return False\n",
        "    return True"
      ]
    },
    {
      "cell_type": "code",
      "source": [
        "\n",
        "\n",
        "def mostrar(nombre, funcion):\n",
        "    lista = []\n",
        "    n = 1\n",
        "    while len(lista) < 2:\n",
        "        if funcion(n):\n",
        "            lista.append(n)\n",
        "        n += 1\n",
        "    print(f\"\\nPrimeros 5 {nombre}:\")\n",
        "    print(lista)\n",
        "\n",
        "# Llamar a cada tipo\n",
        "mostrar(\"defectivos\", numeros_defectivos)\n",
        "mostrar(\"abundantes\", numeros_abundantes)\n",
        "mostrar(\"perfectos\", numeros_perfectos)\n",
        "mostrar(\"semiperfectos\", numeros_semiperfectos)\n",
        "mostrar(\"primos\", numeros_primos)"
      ],
      "metadata": {
        "colab": {
          "base_uri": "https://localhost:8080/"
        },
        "id": "32R1SmcrqlL7",
        "outputId": "9a7fdf9e-f57c-406a-9af7-f455b2c4c4f7"
      },
      "id": "32R1SmcrqlL7",
      "execution_count": null,
      "outputs": [
        {
          "output_type": "stream",
          "name": "stdout",
          "text": [
            "\n",
            "Primeros 5 defectivos:\n",
            "[1, 2]\n",
            "\n",
            "Primeros 5 abundantes:\n",
            "[12, 18]\n",
            "\n",
            "Primeros 5 perfectos:\n",
            "[6, 28]\n",
            "\n",
            "Primeros 5 semiperfectos:\n",
            "[6, 12]\n",
            "\n",
            "Primeros 5 primos:\n",
            "[2, 3]\n"
          ]
        }
      ]
    },
    {
      "cell_type": "markdown",
      "id": "b9b6eebb",
      "metadata": {
        "id": "b9b6eebb"
      },
      "source": [
        "# 2.\n",
        "A useful feature of user-defined functions is recursion, the ability of a function to call itself. For example, consider the following definition of the factorial $n!$ of a positive integer $n$:\n",
        "\n",
        "$$\n",
        "n! =\n",
        "\\begin{cases}\n",
        "1 & \\text{si } n = 1, \\\\\n",
        "n \\times (n - 1)! & \\text{si } n > 1.\n",
        "\\end{cases}$$\n",
        "\n",
        "This constitutes a complete definition of the factorial that allows us to calculate the value of $n!$ for any positive integer. We can use this definition directly to create a Python function for factorials, like this:\n",
        "\n",
        "```python\n",
        "def factorial(n):\n",
        "    if n == 1:\n",
        "        return 1\n",
        "    else:\n",
        "        return n * factorial(n-1)\n",
        "```\n",
        "\n",
        "- The Catalan numbers $C_n$ appeared previously in class. The definition given there can be rewritten as:\n",
        "\n",
        "$$\n",
        "C_n =\n",
        "\\begin{cases}\n",
        "1 & \\text{si } n = 0, \\\\\n",
        "\\frac{4n - 2}{n + 1} \\, C_{n-1} & \\text{si } n > 0.\n",
        "\\end{cases}$$\n",
        "Write a Python function, using recursion, that computes $C_n$. Use your function to compute and print $C_{50}$.\n",
        "\n",
        "- Euclid demonstrated that the greatest common divisor $g(m, n)$ of two non-negative integers $m$ and $n$ satisfies:\n",
        "$$\n",
        "g(m, n) =\n",
        "\\begin{cases}\n",
        "m & \\text{si } n = 0, \\\\\n",
        "g(n, m \\bmod n) & \\text{si } n > 0.\n",
        "\\end{cases}$$\n",
        "Write a Python function $g(m, n)$ that uses recursion to compute the greatest common divisor of $m$ and $n$ using this formula. Use your function to compute and print the greatest common divisor of 108 and 192."
      ]
    },
    {
      "cell_type": "markdown",
      "source": [
        "CATALAN"
      ],
      "metadata": {
        "id": "2Ct5G8TiYzvf"
      },
      "id": "2Ct5G8TiYzvf"
    },
    {
      "cell_type": "code",
      "execution_count": null,
      "id": "9136e453",
      "metadata": {
        "id": "9136e453"
      },
      "outputs": [],
      "source": [
        "def catalan(n):\n",
        "  if n < 0:\n",
        "    raise ValueError(\"Dime números positivos\")\n",
        "  elif  n==0:   #este es mi caso base\n",
        "    return 1\n",
        "  else:\n",
        "    return ((4*n-2)/(n+1))*catalan(n-1)  #esta es la recursividad, llama nuevamente la funcion.\n"
      ]
    },
    {
      "cell_type": "code",
      "source": [
        "catalan(50)"
      ],
      "metadata": {
        "colab": {
          "base_uri": "https://localhost:8080/"
        },
        "id": "nQnHuj_2V_Zo",
        "outputId": "af2991d3-ad08-4341-ecf3-20f2da55bc49"
      },
      "id": "nQnHuj_2V_Zo",
      "execution_count": null,
      "outputs": [
        {
          "output_type": "execute_result",
          "data": {
            "text/plain": [
              "1.9782616577561618e+27"
            ]
          },
          "metadata": {},
          "execution_count": 4
        }
      ]
    },
    {
      "cell_type": "markdown",
      "source": [
        "MAXIMO COMUN DIVISOR"
      ],
      "metadata": {
        "id": "BPupw3mtY2cP"
      },
      "id": "BPupw3mtY2cP"
    },
    {
      "cell_type": "code",
      "source": [
        "def mcd(m,n):\n",
        "  if n and m <0:\n",
        "    raise ValueError(\"Ingresa un numero mayor a cero\")\n",
        "  elif n==0:\n",
        "      return m\n",
        "  else:\n",
        "    return mcd(n, m % n)\n"
      ],
      "metadata": {
        "id": "NPfiZiSuY7na"
      },
      "id": "NPfiZiSuY7na",
      "execution_count": null,
      "outputs": []
    },
    {
      "cell_type": "code",
      "source": [
        "mcd(108,192)"
      ],
      "metadata": {
        "colab": {
          "base_uri": "https://localhost:8080/"
        },
        "id": "9b6wQUiHaVSr",
        "outputId": "c0a442dc-7ad2-4235-8587-ffae0ad960fc"
      },
      "id": "9b6wQUiHaVSr",
      "execution_count": null,
      "outputs": [
        {
          "output_type": "execute_result",
          "data": {
            "text/plain": [
              "12"
            ]
          },
          "metadata": {},
          "execution_count": 6
        }
      ]
    },
    {
      "cell_type": "markdown",
      "id": "917e9bfd",
      "metadata": {
        "id": "917e9bfd"
      },
      "source": [
        "# 3.\n",
        "A projectile is launched from an initial height $y_0 = 0$ with an initial velocity of $4.0, \\text{m/s}$ at $45^\\circ$ to the horizontal. Plot the trajectory of the projectile in its plane of motion (considering the $x$-axis parallel to the horizontal and the origin at the initial position of the projectile) from the launch point to the point where it impacts the ground (assuming flat terrain). The plot must include axis labels and a title. Recall that the equations of parabolic motion are given by\n",
        "\n",
        "$$\n",
        "\\text{Horizontal position:} \\quad x(t) = v_{0x} t = v_0 \\cos\\theta \\cdot t\n",
        "$$\n",
        "$$\n",
        "\\text{Vertical position:} \\quad y(t) = y_0 + v_{0y} t - \\frac{1}{2}gt^2 = y_0 + v_0 \\sin\\theta \\cdot t - \\frac{1}{2}gt^2\n",
        "$$\n",
        "$$\n",
        "\\text{Horizontal velocity:} \\quad v_x(t) = v_{0x} =v_0 \\cos \\theta= \\text{constante}\n",
        "$$\n",
        "$$\n",
        "\\text{Vertical velocity:} \\quad v_y(t) = v_{0y} - gt = v_0 \\sin\\theta - gt\n",
        "$$"
      ]
    },
    {
      "cell_type": "code",
      "source": [
        "import numpy as np\n",
        "import matplotlib.pyplot as plt\n",
        "\n",
        "def Mparabolico(Velocidad,angulo, tiempo):\n",
        "\n",
        "  angulo_rad = np.radians(angulo)  # Convertir angulo a radianes\n",
        "  HP = Velocidad * np.cos(angulo_rad)   * tiempo                     # Posicion horizontal\n",
        "  VP = Velocidad * np.sin(angulo_rad) * tiempo - 0.5 * 9.8 * tiempo**2  # Posicion vertical\n",
        "  return HP,VP\n"
      ],
      "metadata": {
        "id": "kFpsp8B-kqPH"
      },
      "id": "kFpsp8B-kqPH",
      "execution_count": null,
      "outputs": []
    },
    {
      "cell_type": "code",
      "source": [
        "velocidad = 4.0\n",
        "angulo = 45\n",
        "v0y = velocidad * np.sin(np.radians(angulo))\n",
        "t_total = 2 * v0y / 9.8  #Tiempo total de vuelo con y(t)=0\n",
        "\n",
        "tiempo = np.linspace(0, t_total, 100) # Array de tiempos para la trayectoria\n",
        "\n",
        "# Calcular trayectoria\n",
        "HP, VP = Mparabolico(velocidad, angulo, tiempo)\n",
        "\n",
        "# Graficar\n",
        "plt.plot(HP, VP, \"b-\", label=\"Trayectoria\")\n",
        "plt.xlabel(\"Posicion (m)\")\n",
        "plt.ylabel(\"Altura (m) \")\n",
        "plt.title(\"Trayectoria de un proyectil\")\n",
        "plt.grid(True)\n",
        "plt.legend()\n",
        "plt.show()\n"
      ],
      "metadata": {
        "colab": {
          "base_uri": "https://localhost:8080/",
          "height": 472
        },
        "id": "eb33OWzYuf2b",
        "outputId": "fc0a2a1f-a95d-47f2-ad40-9d5d83f33309"
      },
      "id": "eb33OWzYuf2b",
      "execution_count": null,
      "outputs": [
        {
          "output_type": "display_data",
          "data": {
            "text/plain": [
              "<Figure size 640x480 with 1 Axes>"
            ],
            "image/png": "[encoded data removed]"
          },
          "metadata": {}
        }
      ]
    },
    {
      "cell_type": "markdown",
      "id": "8823b22b",
      "metadata": {
        "id": "8823b22b"
      },
      "source": [
        "# 4.\n",
        "\n",
        "The orbit in space of one body around another, such as a planet around the Sun, does not need to be circular. In general, it takes the form of an ellipse, with the body sometimes closer and sometimes farther away. If the distance $\\ell_{1}$ of the closest approach a planet makes to the Sun, called perihelion, and its linear velocity $v_{1}$ at perihelion are known, then any other property of the orbit can be calculated from these two data as follows.\n",
        "\n",
        "Kepler's second law tells us that the distance $\\ell_{2}$ and velocity $v_{2}$ of the planet at its most distant point, or aphelion, satisfy $\\ell_{2}v_{2}=\\ell_{1}v_{1}$. At the same time, the total energy, kinetic plus gravitational, of a planet with velocity $v$ and distance $r$ from the Sun is given by\n",
        "\n",
        "$$\n",
        "    E = \\tfrac{1}{2}mv^{2} - G\\frac{mM}{r},\n",
        "$$\n",
        "\n",
        "where $m$ is the mass of the planet, $M=1.9891\\times 10^{30},\\mathrm{kg}$ is the mass of the Sun, and $G=6.6738\\times 10^{-11},\\mathrm{m}^{3},\\mathrm{kg}^{-1},\\mathrm{s}^{-2}$ is Newton's gravitational constant. Since energy must be conserved, it follows that $v_{2}$ is the smallest root of the quadratic equation\n",
        "\n",
        " $$\n",
        "    v_{2}^{2} - \\frac{2GM}{v_{1}\\ell_{1}}v_{2} - \\left[v_{1}^{2} - \\frac{2GM}{\\ell_{1}}\\right] = 0.\n",
        "$$\n",
        "\n",
        "Once $v_{2}$ is obtained, we can calculate $\\ell_{2}$ using the relation $\\ell_{2}=\\ell_{1}v_{1}/v_{2}$.\n",
        "\n",
        "- Given the values of $v_{1}$, $\\ell_{1}$, and $\\ell_{2}$, other parameters of the orbit are given by simple formulas that can be derived from Kepler's laws and the fact that the orbit is an ellipse:\n",
        "\n",
        "$$\n",
        "    \\text{Semi-major axis:}  \\quad a = \\tfrac{1}{2}(\\ell_{1}+\\ell_{2}),\n",
        "$$\n",
        "$$\n",
        "    \\text{Semi-minor axis:}  \\quad b = \\sqrt{\\ell_{1}\\ell_{2}},\n",
        "$$\n",
        "$$\n",
        "    \\text{Orbital period:}  \\quad T = \\frac{2\\pi ab}{\\ell_{1}v_{1}},\n",
        "$$\n",
        "$$\n",
        "    \\text{Orbital eccentricity:}  \\quad e = \\frac{\\ell_{2}-\\ell_{1}}{\\ell_{2}+\\ell_{1}}.\n",
        "$$\n",
        "\n",
        "Write a program that asks the user to enter the distance to the Sun and the velocity at perihelion, then calculates and prints the quantities $\\ell_{2}$, $v_{2}$, $T$, and $e$.\n",
        "\n",
        "- Test your program by calculating the properties of the orbits of Earth (for which $\\ell_{1}=1.4710\\times 10^{11},\\mathrm{m}$ and $v_{1}=3.0287\\times 10^{4},\\mathrm{m},\\mathrm{s}^{-1}$) and Halley's comet ($\\ell_{1}=8.7830\\times 10^{10},\\mathrm{m}$ and $v_{1}=5.4529\\times 10^{4},\\mathrm{m},\\mathrm{s}^{-1}$). Among other things, you should find that the orbital period of Earth is one year and that of Halley's comet is about 76 years."
      ]
    },
    {
      "cell_type": "code",
      "source": [
        "\n",
        "\n",
        "# constantes\n",
        "G = 6.6738e-11    # constante de gravitacion universal\n",
        "M = 1.9891e30     # masa del sol en kg\n",
        "\n",
        "def calcular_orbita(l1, v1):\n",
        "    # l1 es la distancia al sol en el perihelio\n",
        "    # v1 es la velocidad en el perihelio\n",
        "\n",
        "    A = 1.0\n",
        "    B = - (2 * G * M) / (v1 * l1)\n",
        "    C = - (v1**2 - (2 * G * M) / l1)\n",
        "\n",
        "    coef = [A, B, C]\n",
        "    raices = np.roots(coef)\n",
        "\n",
        "    # se escoge la raiz positiva mas pequena\n",
        "    v2_pos = [r for r in raices if np.isreal(r) and r > 0]  #Isreal busca valores solo reales y la velocidad no puede ser negativa\n",
        "    if len(v2_pos) == 0:\n",
        "        print(\"no hay solucion valida\")\n",
        "        return None\n",
        "    v2 = np.min(v2_pos).real #valor minimo\n",
        "\n",
        "    # distancia en afelio\n",
        "    l2 = l1 * v1 / v2\n",
        "\n",
        "    # semieje mayor y menor\n",
        "    a = 0.5 * (l1 + l2)\n",
        "    b = np.sqrt(l1 * l2)\n",
        "\n",
        "    # periodo orbital\n",
        "    T = (2 * np.pi * a * b) / (l1 * v1)\n",
        "\n",
        "    # excentricidad\n",
        "    e = (l2 - l1) / (l2 + l1)\n",
        "\n",
        "    return v2, l2, a, b, T, e\n",
        "\n",
        "print(\"calculos\")\n",
        "\n",
        "# entrada de datos\n",
        "l1 = float(input(\"ingrese distancia al sol en perihelio (m): \"))\n",
        "v1 = float(input(\"ingrese velocidad en perihelio (m/s): \"))\n",
        "\n",
        "# se llama la funcion\n",
        "v2, l2, a, b, T, e = calcular_orbita(l1, v1)\n",
        "\n",
        "# se muestran resultados\n",
        "print(\"\\nresultados:\")\n",
        "print(\"velocidad en afelio v2 =\", v2, \"m/s\")\n",
        "print(\"distancia en afelio l2 =\", l2, \"m\")\n",
        "print(\"semieje mayor a =\", a, \"m\")\n",
        "print(\"semieje menor b =\", b, \"m\")\n",
        "print(\"periodo orbital T =\", T, \"s\")\n",
        "print(\"excentricidad e =\", e)\n",
        "\n",
        "# convertir el periodo a años\n",
        "anios = T / (365.25 * 24 * 3600)\n",
        "print(\"periodo orbital en años =\", anios)\n"
      ],
      "metadata": {
        "colab": {
          "base_uri": "https://localhost:8080/"
        },
        "id": "6weGl_ChuI8h",
        "outputId": "7052e365-fe9e-4291-a60b-d7dc1baf358f"
      },
      "id": "6weGl_ChuI8h",
      "execution_count": null,
      "outputs": [
        {
          "output_type": "stream",
          "name": "stdout",
          "text": [
            "calculos\n",
            "ingrese distancia al sol en perihelio (m): 100\n",
            "ingrese velocidad en perihelio (m/s): 1555\n",
            "\n",
            "resultados:\n",
            "velocidad en afelio v2 = 1555.0 m/s\n",
            "distancia en afelio l2 = 100.0 m\n",
            "semieje mayor a = 100.0 m\n",
            "semieje menor b = 100.0 m\n",
            "periodo orbital T = 0.4040633638057612 s\n",
            "excentricidad e = 0.0\n",
            "periodo orbital en años = 1.2803995354708887e-08\n"
          ]
        }
      ]
    },
    {
      "cell_type": "code",
      "source": [
        "#hacer lo mismo con el cometa halley"
      ],
      "metadata": {
        "id": "2BzjJZofH7x1"
      },
      "id": "2BzjJZofH7x1",
      "execution_count": null,
      "outputs": []
    }
  ],
  "metadata": {
    "kernelspec": {
      "display_name": "3.12.6",
      "language": "python",
      "name": "python3"
    },
    "language_info": {
      "codemirror_mode": {
        "name": "ipython",
        "version": 3
      },
      "file_extension": ".py",
      "mimetype": "text/x-python",
      "name": "python",
      "nbconvert_exporter": "python",
      "pygments_lexer": "ipython3",
      "version": "3.12.6"
    },
    "colab": {
      "provenance": [],
      "include_colab_link": true
    }
  },
  "nbformat": 4,
  "nbformat_minor": 5
}