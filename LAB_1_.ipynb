{
  "nbformat": 4,
  "nbformat_minor": 0,
  "metadata": {
    "colab": {
      "provenance": [],
      "include_colab_link": true
    },
    "kernelspec": {
      "name": "python3",
      "display_name": "Python 3"
    },
    "language_info": {
      "name": "python"
    }
  },
  "cells": [
    {
      "cell_type": "markdown",
      "metadata": {
        "id": "view-in-github",
        "colab_type": "text"
      },
      "source": [
        "<a href=\"https://colab.research.google.com/github/venussar/numerical-methods-python/blob/main/LAB_1_.ipynb\" target=\"_parent\"><img src=\"https://colab.research.google.com/assets/colab-badge.svg\" alt=\"Open In Colab\"/></a>"
      ]
    },
    {
      "cell_type": "markdown",
      "source": [
        "1. Write a program that calculates the factorial of a given number."
      ],
      "metadata": {
        "id": "Iww88WX2dDhD"
      }
    },
    {
      "cell_type": "code",
      "execution_count": null,
      "metadata": {
        "colab": {
          "base_uri": "https://localhost:8080/"
        },
        "id": "ARFMIHm5Xgls",
        "outputId": "172f8a84-aeb2-4f33-ff3f-6890d0ee6ee5"
      },
      "outputs": [
        {
          "output_type": "stream",
          "name": "stdout",
          "text": [
            "Ingresa un numero: 5\n",
            "El factorial de 5 es: 120\n"
          ]
        }
      ],
      "source": [
        "numero = int(input(\"Ingresa un numero: \"))\n",
        "factorial = 1\n",
        "i = 1\n",
        "while i <= numero:\n",
        "    factorial = factorial * i\n",
        "\n",
        "    i = i + 1\n",
        "\n",
        "print(\"El factorial de\", numero, \"es:\", factorial)\n"
      ]
    },
    {
      "cell_type": "code",
      "source": [
        "#nota\n",
        "P2 = 100/3"
      ],
      "metadata": {
        "id": "3ewZ2OcfVk2x"
      },
      "execution_count": null,
      "outputs": []
    },
    {
      "cell_type": "markdown",
      "source": [
        "OTRA FORMA"
      ],
      "metadata": {
        "id": "6pKt7cYKzT1p"
      }
    },
    {
      "cell_type": "code",
      "source": [
        "def factorial (n):\n",
        "  if n<0:\n",
        "    raise ValueError(\"No se pueden factoriales negativos\")\n",
        "  elif n==0 or n==1:\n",
        "    return 1\n",
        "  else:\n",
        "    return n*factorial(n-1)\n",
        "\n",
        "\n"
      ],
      "metadata": {
        "id": "rcau-JT6zS_A"
      },
      "execution_count": null,
      "outputs": []
    },
    {
      "cell_type": "code",
      "source": [
        "factorial(5)"
      ],
      "metadata": {
        "colab": {
          "base_uri": "https://localhost:8080/"
        },
        "id": "NsG9tHIlzW8-",
        "outputId": "da3cb0be-7662-4980-a56b-fa7a3784e509"
      },
      "execution_count": null,
      "outputs": [
        {
          "output_type": "execute_result",
          "data": {
            "text/plain": [
              "120"
            ]
          },
          "metadata": {},
          "execution_count": 4
        }
      ]
    },
    {
      "cell_type": "markdown",
      "source": [
        "Exercise 2:\n",
        "Plot the sine function using 3 different values N ( N is the last term taken of the series ). Comparing with the sine function with numpy implementation. Say which approximation, which value of N, is sufficient as an approximation.\n",
        "\n",
        "\n",
        "\n"
      ],
      "metadata": {
        "id": "Q9Eomg_qdGGa"
      }
    },
    {
      "cell_type": "code",
      "source": [
        "from math import factorial, radians\n",
        "def mi_sin(x,N):\n",
        "    x= radians(x)\n",
        "    suma = 0\n",
        "    for i in range(N):\n",
        "        suma += ((-1) ** i*x**(2*i+1)) / factorial((2 * i + 1))\n",
        "    return suma\n"
      ],
      "metadata": {
        "id": "XEITlQJ1dhSJ"
      },
      "execution_count": null,
      "outputs": []
    },
    {
      "cell_type": "code",
      "source": [
        "import numpy as np\n",
        "\n",
        "print(\"Resultado de la funcion seno de numpy:\", np.sin(np.radians(45)))\n",
        "print(\"Resultado de mi funcion \", mi_sin(45,8))"
      ],
      "metadata": {
        "colab": {
          "base_uri": "https://localhost:8080/"
        },
        "id": "lAP13Ivxd5pW",
        "outputId": "e5671db8-67e6-4061-bf03-70ab1f5b2f88"
      },
      "execution_count": null,
      "outputs": [
        {
          "output_type": "stream",
          "name": "stdout",
          "text": [
            "Resultado de la funcion seno de numpy: 0.7071067811865475\n",
            "Resultado de mi funcion  0.7071067811865475\n"
          ]
        }
      ]
    },
    {
      "cell_type": "markdown",
      "source": [
        "La aproximación con N=3 empieza a ser parecida al valor original, pero el error es apreciable,\n",
        "Con N=5 la aproximación ya es bastante buena , por lo que con n=5 seria suficiente\n",
        "Con N=8 la aproximación coincide con la funcion de numpy.sin , mejora la precisión, pero gasta más recursos sin necesidad y\n",
        "Valores mayores de N  no mejoran de forma visible en float64, ya que estamos en el limite de precision numerica"
      ],
      "metadata": {
        "id": "sTvbwfcanEKS"
      }
    },
    {
      "cell_type": "code",
      "source": [
        "#No hay ningun plot\n",
        "P3 = 10"
      ],
      "metadata": {
        "id": "2sSP9vYSVxAf"
      },
      "execution_count": null,
      "outputs": []
    },
    {
      "cell_type": "markdown",
      "source": [
        "Exercise 3:\n",
        "\n",
        "The Leibniz series is a simple way to approximate the value of  π :\n",
        "\n",
        "\n"
      ],
      "metadata": {
        "id": "b7v-10RaywR_"
      }
    },
    {
      "cell_type": "code",
      "source": [
        "def numeropi(a):\n",
        "    suma = 0\n",
        "    for i in range(a+1):\n",
        "        suma += ((-1) ** i) / (2 * i + 1)\n",
        "    return 4 * suma\n"
      ],
      "metadata": {
        "id": "ACuJaNPyGLue"
      },
      "execution_count": null,
      "outputs": []
    },
    {
      "cell_type": "code",
      "source": [
        "numeropi(100)"
      ],
      "metadata": {
        "colab": {
          "base_uri": "https://localhost:8080/"
        },
        "id": "KVTwFAC6y2Xz",
        "outputId": "d0b3c303-b431-435b-c151-7b584648efbe"
      },
      "execution_count": null,
      "outputs": [
        {
          "output_type": "execute_result",
          "data": {
            "text/plain": [
              "3.1514934010709914"
            ]
          },
          "metadata": {},
          "execution_count": 9
        }
      ]
    },
    {
      "cell_type": "code",
      "source": [
        "#Nota\n",
        "P1 = 100/3"
      ],
      "metadata": {
        "id": "d_gBSSfGV3-K"
      },
      "execution_count": null,
      "outputs": []
    },
    {
      "cell_type": "code",
      "source": [
        "print('Puntos=',P1+P2+P3)\n",
        "nota = (P1+P2+P3)*5/100\n",
        "print('nota=',nota)"
      ],
      "metadata": {
        "colab": {
          "base_uri": "https://localhost:8080/"
        },
        "id": "NxZP5fbHV6AF",
        "outputId": "c40f686d-cfe4-49de-a5a8-1cc35aa0e015"
      },
      "execution_count": null,
      "outputs": [
        {
          "output_type": "stream",
          "name": "stdout",
          "text": [
            "Puntos= 76.66666666666667\n",
            "nota= 3.833333333333334\n"
          ]
        }
      ]
    },
    {
      "cell_type": "code",
      "source": [],
      "metadata": {
        "id": "k9g_bVEdV6mC"
      },
      "execution_count": null,
      "outputs": []
    }
  ]
}